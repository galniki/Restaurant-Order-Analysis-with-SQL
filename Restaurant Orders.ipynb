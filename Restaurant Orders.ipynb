{
  "metadata": {
    "kernelspec": {
      "name": "SQLite",
      "display_name": "SQLite",
      "language": "sql"
    },
    "language_info": {
      "codemirror_mode": "sql",
      "file_extension": "",
      "mimetype": "",
      "name": "sql",
      "version": "3.32.3"
    }
  },
  "nbformat_minor": 4,
  "nbformat": 4,
  "cells": [
    {
      "cell_type": "code",
      "source": "-- Restaurant Orders\n--What were the least and most ordered items? What categories were they in?\n\n--What do the highest spend orders look like? Which items did they buy and how much did they spend?\n\n--Were there certain times that had more or less orders?\n\n-- Which cuisines should we focus on developing more menu items for based on the data?\n\n\n--Details of the menu table--\nselect * from restaurant_db.menu_items\n\n\n--Number of different menues--\nSELECT COUNT(DISTINCT menu_item_id) AS distinct_menu_items_count\nFROM restaurant_db.menu_items;\n--if it is a dimension table---\nSELECT COUNT(*) AS total_rows\nFROM restaurant_db.menu_items;\n\n--The cheapest & the most expensive menu\nselect * from restaurant_db.menu_items\n order by price\n\n select * from restaurant_db.menu_items\n order by price desc\n\n\n --Number of Italian dishes\n SELECT item_name \nFROM restaurant_db.menu_items \nWHERE category = 'Italian';\n\nSELECT count(*)\nFROM restaurant_db.menu_items \nWHERE category = 'Italian';\n\n-- The most expensive Italian dish\nSELECT top 1 with ties item_name, price\nFROM restaurant_db.menu_items \nWHERE category = 'Italian' order by price desc \n\n-- The least expensive Italian dish\nSELECT top 1 with ties item_name, price\nFROM restaurant_db.menu_items \nWHERE category = 'Italian' order by price \n\n-- Dishes per category\nselect category, \n\tCOUNT (menu_item_id) as number_of_dishes from restaurant_db.menu_items \n\t\tgroup by category \n\nselect category, \n\tAVG (price) as AVG_price_dishes from restaurant_db.menu_items \n\t\tgroup by category \n\n\n\n--Details of the order  table--\nselect * from restaurant_db.order_details\n\n---Date range = From 2023 01.01 11:38:36 To 2023.03.31 22:15:48 ---\nselect top 1 * from restaurant_db.order_details order by order_date, order_time\nselect top 1 * from restaurant_db.order_details order by order_date desc, order_time desc\nselect min(order_date) , max(order_date) from restaurant_db.order_details \n\n--Number of orders---\nSELECT COUNT(DISTINCT order_id) AS distinct_order_items_count\nFROM restaurant_db.order_details;\n\n--Number of items---\nSELECT COUNT(*) \nFROM restaurant_db.order_details;\n\n-- Number od dishes per Ordets\n--select order_id, \n--\tCOUNT (order_details_id) as number_orders_per_order from restaurant_db.order_details  \n--\t\tgroup by order_id order by number_orders_per_order desc\n\nselect order_id, \n\tCOUNT (item_id) as number_dishes_per_order from restaurant_db.order_details  \n\t\tgroup by order_id order by number_dishes_per_order desc\n\n--orders witm more than 12 items---\nselect top 12 with ties order_id, \n\tCOUNT (item_id) as number_dishes_per_order from restaurant_db.order_details  \n\t\tgroup by order_id order by number_dishes_per_order desc\n\nSELECT order_id,  COUNT (item_id) as number_dishes_per_order \n\tfrom restaurant_db.order_details  \n\t\tgroup by order_id \n\t\thaving COUNT (item_id) >12;\n\n\n\nSELECT COUNT(*) FROM \n    (SELECT order_id\n    FROM restaurant_db.order_details\n    GROUP BY order_id\n    HAVING COUNT(item_id) > 12) AS number_orders;",
      "metadata": {
        "trusted": true
      },
      "outputs": [],
      "execution_count": null
    }
  ]
}